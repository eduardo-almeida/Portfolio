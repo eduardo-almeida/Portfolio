{
 "cells": [
  {
   "cell_type": "code",
   "execution_count": 1,
   "id": "8702d242",
   "metadata": {},
   "outputs": [],
   "source": [
    "def import_query(path):\n",
    "    with open(path, 'r') as open_file:\n",
    "        return open_file.read()"
   ]
  },
  {
   "cell_type": "code",
   "execution_count": 2,
   "id": "402b7d97",
   "metadata": {},
   "outputs": [],
   "source": [
    "query = import_query(\"data_sql/vendas.sql\")"
   ]
  },
  {
   "cell_type": "code",
   "execution_count": 3,
   "id": "52ce80c4",
   "metadata": {},
   "outputs": [
    {
     "name": "stdout",
     "output_type": "stream",
     "text": [
      "-- CREATE TABLE sandbox.analystics_churn_model.fs_vendedor_vendas AS\n",
      "\n",
      "WITH tbl_pedido AS\n",
      "(\n",
      "SELECT \n",
      "t2.*, t1.dtPedido\n",
      "FROM \n",
      "  silver.olist.pedido t1 \n",
      "LEFT JOIN \n",
      "  silver.olist.item_pedido t2 \n",
      "    ON t1.idPedido = t2.idPedido \n",
      "WHERE \n",
      "  dtPedido >= ADD_MONTHS('{date}', -6)\n",
      "AND \n",
      "  dtPedido < '{date}'\n",
      "AND \n",
      "  idVendedor IS NOT NULL\n",
      "), \n",
      "\n",
      "tbl_summary AS \n",
      "(SELECT \n",
      "  idVendedor, \n",
      "  COUNT(DISTINCT idPedido) AS QntPedidos, \n",
      "  COUNT(DISTINCT DATE(dtPedido)) AS QntDias, \n",
      "  COUNT(DISTINCT idProduto) AS QntItens, \n",
      "  DATEDIFF('{date}', MAX(dtPedido)) AS QntRecencia, \n",
      "  SUM(vlPreco)/ COUNT(DISTINCT idPedido) AS AvgTicket, \n",
      "  AVG(vlPreco) AS AvgValorProduto, \n",
      "  MAX(vlPreco) AS MAXValorProduto, \n",
      "  MIN(vlPreco) AS MINValorProduto, \n",
      "  COUNT(idProduto) / COUNT(DISTINCT idPedido) AS AvgProdutoPedido \n",
      "FROM \n",
      "  tbl_pedido\n",
      "GROUP BY \n",
      "  idVendedor), \n",
      "\n",
      "\n",
      "tbl_min_max AS (\n",
      "SELECT \n",
      "  idVendedor, \n",
      "  MAX(vlPreco) AS MAXValorPedido, \n",
      "  MIN(vlPreco) AS MINValorPedido\n",
      "FROM \n",
      "  (\n",
      "  SELECT \n",
      "    idVendedor, \n",
      "    idPedido, \n",
      "    SUM(vlPreco) AS vlPreco \n",
      "  FROM \n",
      "    tbl_pedido \n",
      "  GROUP BY \n",
      "    idVendedor, \n",
      "    idPedido\n",
      "  ) \n",
      "GROUP BY \n",
      "  idVendedor), \n",
      "\n",
      "tbl_life AS (\n",
      "SELECT \n",
      "    t2.idVendedor, \n",
      "    SUM(vlPreco) AS LTV,\n",
      "    MAX(DATEDIFF('{date}', dtPedido)) AS qtnDiasBase \n",
      "FROM \n",
      "  silver.olist.pedido t1 \n",
      "LEFT JOIN \n",
      "  silver.olist.item_pedido t2 \n",
      "    ON t1.idPedido = t2.idPedido \n",
      "WHERE \n",
      "  dtPedido < '{date}'\n",
      "AND \n",
      "  idVendedor IS NOT NULL\n",
      "GROUP BY \n",
      "  t2.idVendedor), \n",
      "\n",
      "tbl_intervalo AS (\n",
      "SELECT \n",
      "  idVendedor, \n",
      "  AVG(DATEDIFF(dtPedido, NextDatePedido)) AS AvgIntervaloVendas\n",
      "FROM \n",
      "(SELECT DISTINCT \n",
      "  idVendedor, \n",
      "  DATE(dtPedido) AS dtPedido,\n",
      "  LAG(DATE(dtPedido),1) OVER (PARTITION BY IdVendedor ORDER BY dtPedido) AS NextDatePedido\n",
      "FROM \n",
      "  tbl_pedido)\n",
      "GROUP BY idVendedor) \n",
      "\n",
      "\n",
      "SELECT \n",
      "  '{date}' DateRef, \n",
      "  t1.*, \n",
      "  t2.MAXValorPedido,  \n",
      "  t2.MINValorPedido, \n",
      "  t3.LTV, \n",
      "  t3.qtnDiasBase, \n",
      "  t4.AvgIntervaloVendas\n",
      "FROM \n",
      "  tbl_summary t1 \n",
      "LEFT JOIN \n",
      "  tbl_min_max t2 \n",
      "    ON t1.idVendedor = t2.idVendedor \n",
      "LEFT JOIN \n",
      "  tbl_life t3\n",
      "    ON t1.idVendedor = t3.idVendedor \n",
      "LEFT JOIN \n",
      "  tbl_intervalo t4\n",
      "    ON t1.idVendedor = t4.idVendedor \n",
      "\n",
      " \n",
      "\n",
      "\n",
      "\n"
     ]
    }
   ],
   "source": [
    "print(query)"
   ]
  },
  {
   "cell_type": "code",
   "execution_count": 4,
   "id": "4a367755",
   "metadata": {},
   "outputs": [
    {
     "ename": "NameError",
     "evalue": "name 'spark' is not defined",
     "output_type": "error",
     "traceback": [
      "\u001b[1;31m---------------------------------------------------------------------------\u001b[0m",
      "\u001b[1;31mNameError\u001b[0m                                 Traceback (most recent call last)",
      "\u001b[1;32m~\\AppData\\Local\\Temp\\ipykernel_25232\\2464733029.py\u001b[0m in \u001b[0;36m<module>\u001b[1;34m\u001b[0m\n\u001b[1;32m----> 1\u001b[1;33m \u001b[0mdf\u001b[0m \u001b[1;33m=\u001b[0m \u001b[0mspark\u001b[0m\u001b[1;33m.\u001b[0m\u001b[0msql\u001b[0m\u001b[1;33m(\u001b[0m\u001b[0mquery\u001b[0m\u001b[1;33m)\u001b[0m\u001b[1;33m\u001b[0m\u001b[1;33m\u001b[0m\u001b[0m\n\u001b[0m",
      "\u001b[1;31mNameError\u001b[0m: name 'spark' is not defined"
     ]
    }
   ],
   "source": [
    "df = spark.sql(query)"
   ]
  },
  {
   "cell_type": "code",
   "execution_count": null,
   "id": "382417af",
   "metadata": {},
   "outputs": [],
   "source": []
  }
 ],
 "metadata": {
  "kernelspec": {
   "display_name": "Python 3 (ipykernel)",
   "language": "python",
   "name": "python3"
  },
  "language_info": {
   "codemirror_mode": {
    "name": "ipython",
    "version": 3
   },
   "file_extension": ".py",
   "mimetype": "text/x-python",
   "name": "python",
   "nbconvert_exporter": "python",
   "pygments_lexer": "ipython3",
   "version": "3.9.13"
  }
 },
 "nbformat": 4,
 "nbformat_minor": 5
}
